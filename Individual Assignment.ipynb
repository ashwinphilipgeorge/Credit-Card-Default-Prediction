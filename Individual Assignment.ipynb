{
 "cells": [
  {
   "cell_type": "markdown",
   "id": "ee10b2a6",
   "metadata": {},
   "source": [
    "# Individual Assignment\n",
    "Done by Ashwin Philip George"
   ]
  },
  {
   "cell_type": "markdown",
   "id": "fafc163e",
   "metadata": {},
   "source": [
    "## Data Exploration and Preparation"
   ]
  },
  {
   "cell_type": "code",
   "execution_count": 17,
   "id": "e0346bf7",
   "metadata": {},
   "outputs": [],
   "source": [
    "import pandas as pd\n",
    "\n",
    "data = pd.read_csv('credit_card.csv')"
   ]
  },
  {
   "cell_type": "code",
   "execution_count": 18,
   "id": "6815b156",
   "metadata": {},
   "outputs": [
    {
     "data": {
      "text/plain": [
       "income     0\n",
       "age        0\n",
       "loan       0\n",
       "default    0\n",
       "dtype: int64"
      ]
     },
     "execution_count": 18,
     "metadata": {},
     "output_type": "execute_result"
    }
   ],
   "source": [
    "data.isna().sum() #just to check if there are any NA or empty values"
   ]
  },
  {
   "cell_type": "code",
   "execution_count": 19,
   "id": "29851176",
   "metadata": {},
   "outputs": [
    {
     "data": {
      "text/html": [
       "<div>\n",
       "<style scoped>\n",
       "    .dataframe tbody tr th:only-of-type {\n",
       "        vertical-align: middle;\n",
       "    }\n",
       "\n",
       "    .dataframe tbody tr th {\n",
       "        vertical-align: top;\n",
       "    }\n",
       "\n",
       "    .dataframe thead th {\n",
       "        text-align: right;\n",
       "    }\n",
       "</style>\n",
       "<table border=\"1\" class=\"dataframe\">\n",
       "  <thead>\n",
       "    <tr style=\"text-align: right;\">\n",
       "      <th></th>\n",
       "      <th>income</th>\n",
       "      <th>age</th>\n",
       "      <th>loan</th>\n",
       "      <th>default</th>\n",
       "    </tr>\n",
       "  </thead>\n",
       "  <tbody>\n",
       "    <tr>\n",
       "      <th>count</th>\n",
       "      <td>3428.000000</td>\n",
       "      <td>3428.000000</td>\n",
       "      <td>3428.000000</td>\n",
       "      <td>3428.000000</td>\n",
       "    </tr>\n",
       "    <tr>\n",
       "      <th>mean</th>\n",
       "      <td>45136.875975</td>\n",
       "      <td>34.795950</td>\n",
       "      <td>5591.986695</td>\n",
       "      <td>0.500000</td>\n",
       "    </tr>\n",
       "    <tr>\n",
       "      <th>std</th>\n",
       "      <td>14425.486619</td>\n",
       "      <td>12.840055</td>\n",
       "      <td>3174.522430</td>\n",
       "      <td>0.500073</td>\n",
       "    </tr>\n",
       "    <tr>\n",
       "      <th>min</th>\n",
       "      <td>20014.489470</td>\n",
       "      <td>-52.423280</td>\n",
       "      <td>1.377630</td>\n",
       "      <td>0.000000</td>\n",
       "    </tr>\n",
       "    <tr>\n",
       "      <th>25%</th>\n",
       "      <td>32827.211177</td>\n",
       "      <td>25.171939</td>\n",
       "      <td>3103.357467</td>\n",
       "      <td>0.000000</td>\n",
       "    </tr>\n",
       "    <tr>\n",
       "      <th>50%</th>\n",
       "      <td>45546.632873</td>\n",
       "      <td>30.086842</td>\n",
       "      <td>5540.305046</td>\n",
       "      <td>0.500000</td>\n",
       "    </tr>\n",
       "    <tr>\n",
       "      <th>75%</th>\n",
       "      <td>57514.794130</td>\n",
       "      <td>44.369461</td>\n",
       "      <td>7809.377943</td>\n",
       "      <td>1.000000</td>\n",
       "    </tr>\n",
       "    <tr>\n",
       "      <th>max</th>\n",
       "      <td>69995.685580</td>\n",
       "      <td>63.971796</td>\n",
       "      <td>13766.051240</td>\n",
       "      <td>1.000000</td>\n",
       "    </tr>\n",
       "  </tbody>\n",
       "</table>\n",
       "</div>"
      ],
      "text/plain": [
       "             income          age          loan      default\n",
       "count   3428.000000  3428.000000   3428.000000  3428.000000\n",
       "mean   45136.875975    34.795950   5591.986695     0.500000\n",
       "std    14425.486619    12.840055   3174.522430     0.500073\n",
       "min    20014.489470   -52.423280      1.377630     0.000000\n",
       "25%    32827.211177    25.171939   3103.357467     0.000000\n",
       "50%    45546.632873    30.086842   5540.305046     0.500000\n",
       "75%    57514.794130    44.369461   7809.377943     1.000000\n",
       "max    69995.685580    63.971796  13766.051240     1.000000"
      ]
     },
     "execution_count": 19,
     "metadata": {},
     "output_type": "execute_result"
    }
   ],
   "source": [
    "data.describe()"
   ]
  },
  {
   "cell_type": "code",
   "execution_count": 20,
   "id": "e006015d",
   "metadata": {},
   "outputs": [
    {
     "data": {
      "text/plain": [
       "array([[<AxesSubplot:title={'center':'income'}>,\n",
       "        <AxesSubplot:title={'center':'age'}>],\n",
       "       [<AxesSubplot:title={'center':'loan'}>,\n",
       "        <AxesSubplot:title={'center':'default'}>]], dtype=object)"
      ]
     },
     "execution_count": 20,
     "metadata": {},
     "output_type": "execute_result"
    },
    {
     "data": {
      "image/png": "[encoded data removed]",
      "text/plain": [
       "<Figure size 432x288 with 4 Axes>"
      ]
     },
     "metadata": {
      "needs_background": "light"
     },
     "output_type": "display_data"
    }
   ],
   "source": [
    "data.hist()"
   ]
  },
  {
   "cell_type": "markdown",
   "id": "131984fe",
   "metadata": {},
   "source": [
    "No outliers or anomalic data points can be seen in the histograms, so the data seems good!"
   ]
  },
  {
   "cell_type": "code",
   "execution_count": 21,
   "id": "30acee4c",
   "metadata": {},
   "outputs": [
    {
     "data": {
      "text/plain": [
       "income     float64\n",
       "age        float64\n",
       "loan       float64\n",
       "default      int64\n",
       "dtype: object"
      ]
     },
     "execution_count": 21,
     "metadata": {},
     "output_type": "execute_result"
    }
   ],
   "source": [
    "data.dtypes"
   ]
  },
  {
   "cell_type": "code",
   "execution_count": 22,
   "id": "9f282202",
   "metadata": {},
   "outputs": [],
   "source": [
    "from sklearn.model_selection import train_test_split"
   ]
  },
  {
   "cell_type": "code",
   "execution_count": 23,
   "id": "273f69bb",
   "metadata": {},
   "outputs": [],
   "source": [
    "X = data.loc[:,[\"income\",\"age\",\"loan\"]]\n",
    "y = data.loc[:,[\"default\"]]"
   ]
  },
  {
   "cell_type": "code",
   "execution_count": 24,
   "id": "592a7538",
   "metadata": {},
   "outputs": [],
   "source": [
    "X_train, X_test, y_train, y_test = train_test_split(X,y,test_size=0.2,random_state=42)"
   ]
  },
  {
   "cell_type": "code",
   "execution_count": 25,
   "id": "26190fc2",
   "metadata": {},
   "outputs": [],
   "source": [
    "from sklearn.preprocessing import StandardScaler\n",
    "X_train = StandardScaler().fit_transform(X_train)\n",
    "X_test = StandardScaler().fit_transform(X_test)"
   ]
  },
  {
   "cell_type": "markdown",
   "id": "cff5198f",
   "metadata": {},
   "source": [
    "## Model Selection"
   ]
  },
  {
   "cell_type": "code",
   "execution_count": 30,
   "id": "0bc3f782",
   "metadata": {},
   "outputs": [],
   "source": [
    "from sklearn.ensemble import GradientBoostingClassifier\n",
    "from sklearn.linear_model import LogisticRegression\n",
    "from sklearn.tree import DecisionTreeClassifier\n",
    "from sklearn.ensemble import RandomForestClassifier\n",
    "from sklearn import model_selection\n",
    "import matplotlib.pyplot as plt"
   ]
  },
  {
   "cell_type": "code",
   "execution_count": 31,
   "id": "e4e2aa00",
   "metadata": {},
   "outputs": [
    {
     "name": "stdout",
     "output_type": "stream",
     "text": [
      "LR: 0.863435 (0.057667)\n",
      "GBC: 0.990087 (0.009420)\n",
      "CART: 0.987165 (0.006673)\n",
      "RFC: 0.993878 (0.006578)\n"
     ]
    },
    {
     "data": {
      "image/png": "[encoded data removed]",
      "text/plain": [
       "<Figure size 432x288 with 1 Axes>"
      ]
     },
     "metadata": {
      "needs_background": "light"
     },
     "output_type": "display_data"
    }
   ],
   "source": [
    "import warnings\n",
    "warnings.filterwarnings('ignore')\n",
    "\n",
    "seed = 7\n",
    "# prepare models\n",
    "models = []\n",
    "models.append(('LR', LogisticRegression()))\n",
    "models.append(('GBC', GradientBoostingClassifier()))\n",
    "models.append(('CART', DecisionTreeClassifier()))\n",
    "models.append(('RFC', RandomForestClassifier()))\n",
    "# evaluate each model in turn\n",
    "results = []\n",
    "names = []\n",
    "scoring = 'accuracy'\n",
    "for name, model in models:\n",
    "    kfold = model_selection.KFold(n_splits=10)\n",
    "    cv_results = model_selection.cross_val_score(model, X, y, cv=kfold, scoring=scoring)\n",
    "    results.append(cv_results)\n",
    "    names.append(name)\n",
    "    msg = \"%s: %f (%f)\" % (name, cv_results.mean(), cv_results.std())\n",
    "    print(msg)\n",
    "# boxplot algorithm comparison\n",
    "fig = plt.figure()\n",
    "fig.suptitle('Algorithm Comparison')\n",
    "ax = fig.add_subplot(111)\n",
    "plt.boxplot(results)\n",
    "ax.set_xticklabels(names)\n",
    "plt.show()"
   ]
  },
  {
   "cell_type": "markdown",
   "id": "87fac44c",
   "metadata": {},
   "source": [
    "The random forest classifier is performing the best (based on accuracy), and so we will use it."
   ]
  },
  {
   "cell_type": "markdown",
   "id": "276d7226",
   "metadata": {},
   "source": [
    "# Model Tuning"
   ]
  },
  {
   "cell_type": "markdown",
   "id": "be4fbf60",
   "metadata": {},
   "source": [
    "Below we will use RandomizedSearchCV to tune the model to find the gradients which produce the lowest loss. (GridSearchCV not used due to time constraints)"
   ]
  },
  {
   "cell_type": "code",
   "execution_count": 32,
   "id": "785326aa",
   "metadata": {},
   "outputs": [
    {
     "name": "stdout",
     "output_type": "stream",
     "text": [
      "Fitting 3 folds for each of 50 candidates, totalling 150 fits\n"
     ]
    },
    {
     "data": {
      "text/plain": [
       "{'min_samples_split': 4,\n",
       " 'min_samples_leaf': 1,\n",
       " 'max_depth': 16,\n",
       " 'criterion': 'gini'}"
      ]
     },
     "execution_count": 32,
     "metadata": {},
     "output_type": "execute_result"
    }
   ],
   "source": [
    "import numpy as np\n",
    "from sklearn.model_selection import RandomizedSearchCV\n",
    "\n",
    "# Number of trees in random forest\n",
    "max_depth = range(2,20)\n",
    "min_samples_leaf = range(1,5)\n",
    "min_samples_split = range(1,5)\n",
    "criterion= [\"gini\",\"entropy\",\"log_loss\"]\n",
    "\n",
    "random_grid = {'max_depth': max_depth,\n",
    "               'min_samples_leaf' : min_samples_leaf,\n",
    "              'min_samples_split':min_samples_split,\n",
    "              'criterion': criterion}\n",
    "\n",
    "rf=RandomForestClassifier()\n",
    "rf_randomcv=RandomizedSearchCV(estimator=rf,param_distributions=random_grid,n_iter=50,cv=3,verbose=2,\n",
    "                               random_state=100,n_jobs=-1)\n",
    "### fit the randomized model\n",
    "rf_randomcv.fit(X_train,y_train)\n",
    "\n",
    "rf_randomcv.best_params_"
   ]
  },
  {
   "cell_type": "markdown",
   "id": "ef5ffbcc",
   "metadata": {},
   "source": [
    "Above are the tuned paramters we should use for the Random Forest."
   ]
  },
  {
   "cell_type": "code",
   "execution_count": 35,
   "id": "05b4ca80",
   "metadata": {},
   "outputs": [
    {
     "name": "stdout",
     "output_type": "stream",
     "text": [
      "              precision    recall  f1-score   support\n",
      "\n",
      "           0       1.00      0.99      0.99       355\n",
      "           1       0.99      1.00      0.99       331\n",
      "\n",
      "    accuracy                           0.99       686\n",
      "   macro avg       0.99      0.99      0.99       686\n",
      "weighted avg       0.99      0.99      0.99       686\n",
      "\n"
     ]
    }
   ],
   "source": [
    "from sklearn.metrics import classification_report\n",
    "\n",
    "rf_final = RandomForestClassifier(max_depth=14,criterion='gini',min_samples_split=4,min_samples_leaf=1).fit(X_train,y_train)\n",
    "preds = rf_final.predict(X_test)\n",
    "print(classification_report(y_test,preds))"
   ]
  },
  {
   "cell_type": "code",
   "execution_count": 37,
   "id": "d0c2d182",
   "metadata": {},
   "outputs": [
    {
     "data": {
      "text/plain": [
       "['random_forest']"
      ]
     },
     "execution_count": 37,
     "metadata": {},
     "output_type": "execute_result"
    }
   ],
   "source": [
    "import joblib\n",
    "joblib.dump(rf_final,'random_forest')"
   ]
  },
  {
   "cell_type": "markdown",
   "id": "762dc64d",
   "metadata": {},
   "source": [
    "## Tuning Other Models"
   ]
  },
  {
   "cell_type": "code",
   "execution_count": 38,
   "id": "a862f714",
   "metadata": {},
   "outputs": [
    {
     "name": "stdout",
     "output_type": "stream",
     "text": [
      "Fitting 3 folds for each of 50 candidates, totalling 150 fits\n"
     ]
    },
    {
     "data": {
      "text/plain": [
       "{'min_samples_split': 4, 'min_samples_leaf': 4, 'max_depth': 15}"
      ]
     },
     "execution_count": 38,
     "metadata": {},
     "output_type": "execute_result"
    }
   ],
   "source": [
    "import numpy as np\n",
    "from sklearn.model_selection import RandomizedSearchCV\n",
    "\n",
    "# Number of trees in random forest\n",
    "max_depth = range(2,20)\n",
    "min_samples_leaf = range(1,5)\n",
    "min_samples_split = range(1,5)\n",
    "\n",
    "random_grid = {'max_depth': max_depth,\n",
    "               'min_samples_leaf' : min_samples_leaf,\n",
    "              'min_samples_split':min_samples_split}\n",
    "\n",
    "gbc=GradientBoostingClassifier()\n",
    "gbc_randomcv=RandomizedSearchCV(estimator=gbc,param_distributions=random_grid,n_iter=50,cv=3,verbose=2,\n",
    "                               random_state=100,n_jobs=-1)\n",
    "### fit the randomized model\n",
    "gbc_randomcv.fit(X_train,y_train)\n",
    "\n",
    "gbc_randomcv.best_params_"
   ]
  },
  {
   "cell_type": "code",
   "execution_count": 39,
   "id": "a49bac25",
   "metadata": {},
   "outputs": [
    {
     "name": "stdout",
     "output_type": "stream",
     "text": [
      "              precision    recall  f1-score   support\n",
      "\n",
      "           0       0.98      0.99      0.99       355\n",
      "           1       0.99      0.98      0.99       331\n",
      "\n",
      "    accuracy                           0.99       686\n",
      "   macro avg       0.99      0.99      0.99       686\n",
      "weighted avg       0.99      0.99      0.99       686\n",
      "\n"
     ]
    }
   ],
   "source": [
    "from sklearn.metrics import classification_report\n",
    "\n",
    "gbc_final = GradientBoostingClassifier(max_depth=15,min_samples_split=4,min_samples_leaf=4).fit(X_train,y_train)\n",
    "preds = gbc_final.predict(X_test)\n",
    "print(classification_report(y_test,preds))"
   ]
  },
  {
   "cell_type": "code",
   "execution_count": 45,
   "id": "e7288a9a",
   "metadata": {},
   "outputs": [
    {
     "data": {
      "text/plain": [
       "['gradient_boosting']"
      ]
     },
     "execution_count": 45,
     "metadata": {},
     "output_type": "execute_result"
    }
   ],
   "source": [
    "import joblib\n",
    "joblib.dump(gbc_final,'gradient_boosting')"
   ]
  },
  {
   "cell_type": "code",
   "execution_count": 42,
   "id": "7b7ab85d",
   "metadata": {},
   "outputs": [
    {
     "name": "stdout",
     "output_type": "stream",
     "text": [
      "Fitting 3 folds for each of 16 candidates, totalling 48 fits\n"
     ]
    },
    {
     "data": {
      "text/plain": [
       "{'penalty': 'none', 'max_iter': 50}"
      ]
     },
     "execution_count": 42,
     "metadata": {},
     "output_type": "execute_result"
    }
   ],
   "source": [
    "# Number of trees in random forest\n",
    "penalty = ['l1','l2','elasticnet','none']\n",
    "max_iter = [50,100,150,200]\n",
    "\n",
    "random_grid = {'penalty': penalty,\n",
    "               'max_iter' : max_iter}\n",
    "\n",
    "lr=LogisticRegression()\n",
    "lr_randomcv=RandomizedSearchCV(estimator=lr,param_distributions=random_grid,n_iter=50,cv=3,verbose=2,\n",
    "                               random_state=100,n_jobs=-1)\n",
    "### fit the randomized model\n",
    "lr_randomcv.fit(X_train,y_train)\n",
    "\n",
    "lr_randomcv.best_params_"
   ]
  },
  {
   "cell_type": "code",
   "execution_count": 44,
   "id": "64cc00c9",
   "metadata": {},
   "outputs": [
    {
     "name": "stdout",
     "output_type": "stream",
     "text": [
      "              precision    recall  f1-score   support\n",
      "\n",
      "           0       0.97      0.92      0.94       355\n",
      "           1       0.92      0.97      0.94       331\n",
      "\n",
      "    accuracy                           0.94       686\n",
      "   macro avg       0.95      0.95      0.94       686\n",
      "weighted avg       0.95      0.94      0.94       686\n",
      "\n"
     ]
    }
   ],
   "source": [
    "lr_final = LogisticRegression(penalty='none',max_iter=50).fit(X_train,y_train)\n",
    "preds = lr_final.predict(X_test)\n",
    "print(classification_report(y_test,preds))"
   ]
  },
  {
   "cell_type": "code",
   "execution_count": 46,
   "id": "5413d521",
   "metadata": {},
   "outputs": [
    {
     "data": {
      "text/plain": [
       "['linear_regression']"
      ]
     },
     "execution_count": 46,
     "metadata": {},
     "output_type": "execute_result"
    }
   ],
   "source": [
    "joblib.dump(lr_final,'linear_regression')"
   ]
  },
  {
   "cell_type": "code",
   "execution_count": 48,
   "id": "1899a1d0",
   "metadata": {},
   "outputs": [
    {
     "name": "stdout",
     "output_type": "stream",
     "text": [
      "Fitting 3 folds for each of 50 candidates, totalling 150 fits\n"
     ]
    },
    {
     "data": {
      "text/plain": [
       "{'min_samples_split': 4,\n",
       " 'min_samples_leaf': 4,\n",
       " 'max_depth': 12,\n",
       " 'criterion': 'entropy'}"
      ]
     },
     "execution_count": 48,
     "metadata": {},
     "output_type": "execute_result"
    }
   ],
   "source": [
    "max_depth = range(2,20)\n",
    "min_samples_leaf = range(1,5)\n",
    "min_samples_split = range(1,5)\n",
    "criterion= [\"gini\",\"entropy\",\"log_loss\"]\n",
    "\n",
    "random_grid = {'max_depth': max_depth,\n",
    "               'min_samples_leaf' : min_samples_leaf,\n",
    "              'min_samples_split':min_samples_split,\n",
    "              'criterion': criterion}\n",
    "\n",
    "cart=DecisionTreeClassifier()\n",
    "cart_randomcv=RandomizedSearchCV(estimator=cart,param_distributions=random_grid,n_iter=50,cv=3,verbose=2,\n",
    "                               random_state=100,n_jobs=-1)\n",
    "### fit the randomized model\n",
    "cart_randomcv.fit(X_train,y_train)\n",
    "\n",
    "cart_randomcv.best_params_"
   ]
  },
  {
   "cell_type": "code",
   "execution_count": 49,
   "id": "5e3d17d8",
   "metadata": {},
   "outputs": [
    {
     "name": "stdout",
     "output_type": "stream",
     "text": [
      "              precision    recall  f1-score   support\n",
      "\n",
      "           0       0.98      0.99      0.98       355\n",
      "           1       0.99      0.98      0.98       331\n",
      "\n",
      "    accuracy                           0.98       686\n",
      "   macro avg       0.98      0.98      0.98       686\n",
      "weighted avg       0.98      0.98      0.98       686\n",
      "\n"
     ]
    }
   ],
   "source": [
    "from sklearn.metrics import classification_report\n",
    "\n",
    "cart_final = DecisionTreeClassifier(max_depth=12,criterion='entropy',min_samples_split=4,min_samples_leaf=4).fit(X_train,y_train)\n",
    "preds = cart_final.predict(X_test)\n",
    "print(classification_report(y_test,preds))"
   ]
  },
  {
   "cell_type": "code",
   "execution_count": 50,
   "id": "310ef6cd",
   "metadata": {},
   "outputs": [
    {
     "data": {
      "text/plain": [
       "['cart_model']"
      ]
     },
     "execution_count": 50,
     "metadata": {},
     "output_type": "execute_result"
    }
   ],
   "source": [
    "joblib.dump(cart_final,'cart_model')"
   ]
  },
  {
   "cell_type": "code",
   "execution_count": null,
   "id": "f92a0b6e",
   "metadata": {},
   "outputs": [],
   "source": []
  }
 ],
 "metadata": {
  "kernelspec": {
   "display_name": "flexi",
   "language": "python",
   "name": "flexi"
  },
  "language_info": {
   "codemirror_mode": {
    "name": "ipython",
    "version": 3
   },
   "file_extension": ".py",
   "mimetype": "text/x-python",
   "name": "python",
   "nbconvert_exporter": "python",
   "pygments_lexer": "ipython3",
   "version": "3.9.12"
  }
 },
 "nbformat": 4,
 "nbformat_minor": 5
}
